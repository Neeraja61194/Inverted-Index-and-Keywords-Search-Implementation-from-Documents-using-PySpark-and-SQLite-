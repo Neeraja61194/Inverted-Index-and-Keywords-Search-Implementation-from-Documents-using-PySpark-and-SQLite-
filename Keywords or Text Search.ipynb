{
 "cells": [
  {
   "cell_type": "markdown",
   "metadata": {
    "id": "hEpzoCGdWEVs"
   },
   "source": [
    "# The second part of the project:\n",
    "\n",
    "### 1. Store the inverted index and document magnitude created in first part, in a relational database (SQLite) \n",
    "### 2. User input Key words search from the documents - \n",
    "Searches for the query text (word or sentence) input by the user in the SQLite tables containing the inverted    index and document magnitude. \n",
    "### 3. Ranks the documents containing the query text in decreasing order of cosine similarity. \n",
    "The cosine similarity between the documents and the query text is calculated and the most similar documents appears at the top. \n"
   ]
  },
  {
   "cell_type": "code",
   "execution_count": null,
   "metadata": {},
   "outputs": [],
   "source": [
    "!apt-get install openjdk-8-jdk-headless -qq > /dev/null\n",
    "!wget -q https://archive.apache.org/dist/spark/spark-2.4.4/spark-2.4.4-bin-hadoop2.7.tgz\n",
    "!tar xf spark-2.4.4-bin-hadoop2.7.tgz\n",
    "!pip install -q findspark\n",
    "\n",
    "import os\n",
    "os.environ[\"JAVA_HOME\"] = \"/usr/lib/jvm/java-8-openjdk-amd64\"\n",
    "os.environ[\"SPARK_HOME\"] = \"/content/spark-2.4.4-bin-hadoop2.7\"\n",
    "\n",
    "import findspark\n",
    "findspark.init(\"spark-2.4.4-bin-hadoop2.7\")# SPARK_HOME\n",
    "\n",
    "from pyspark import SparkContext\n",
    "sc = SparkContext.getOrCreate()"
   ]
  },
  {
   "cell_type": "code",
   "execution_count": 19,
   "metadata": {
    "colab": {
     "base_uri": "https://localhost:8080/"
    },
    "id": "zIAJvKfXWXiZ",
    "outputId": "2bf3ca9c-597c-48bb-8430-382b5929e3ff"
   },
   "outputs": [
    {
     "name": "stdout",
     "output_type": "stream",
     "text": [
      "Drive already mounted at /content/drive; to attempt to forcibly remount, call drive.mount(\"/content/drive\", force_remount=True).\n"
     ]
    }
   ],
   "source": [
    "from google.colab import drive\n",
    "drive.mount('/content/drive')"
   ]
  },
  {
   "cell_type": "code",
   "execution_count": 13,
   "metadata": {
    "colab": {
     "base_uri": "https://localhost:8080/"
    },
    "id": "HWXX_RhWplGF",
    "outputId": "3fc196b1-f7f7-419c-8e95-631ea070ad5c"
   },
   "outputs": [
    {
     "name": "stdout",
     "output_type": "stream",
     "text": [
      "[nltk_data] Downloading package stopwords to /root/nltk_data...\n",
      "[nltk_data]   Package stopwords is already up-to-date!\n",
      "[nltk_data] Downloading package punkt to /root/nltk_data...\n",
      "[nltk_data]   Package punkt is already up-to-date!\n"
     ]
    },
    {
     "data": {
      "text/plain": [
       "True"
      ]
     },
     "execution_count": 13,
     "metadata": {
      "tags": []
     },
     "output_type": "execute_result"
    }
   ],
   "source": [
    "import nltk\n",
    "nltk.download('stopwords')\n",
    "nltk.download('punkt')"
   ]
  },
  {
   "cell_type": "code",
   "execution_count": 20,
   "metadata": {
    "id": "ZiYxERqXW3YY"
   },
   "outputs": [],
   "source": [
    "import sqlite3\n",
    "con = sqlite3.connect('keyword_search_project.db')\n",
    "cur = con.cursor() #creating cursor for db operation\n",
    "\n",
    "#creating table\n",
    "\n",
    "cur.execute('''DROP TABLE IF EXISTS postings ''')\n",
    "cur.execute('''DROP TABLE IF EXISTS docmag ''')\n",
    "\n",
    "cur.execute('''CREATE TABLE IF NOT EXISTS postings ( word VARCHAR(100) PRIMARY KEY, postinglist_freq_tfidf TEXT)''')\n",
    "cur.execute('''CREATE TABLE IF NOT EXISTS docmag ( docid INT PRIMARY KEY,maxf INT,mag FLOAT)''')\n",
    "\n",
    "cur.close()#closing the cursor\n",
    "#commiting changes\n",
    "con.commit()\n",
    "\n",
    "#closing connection\n",
    "con.close()"
   ]
  },
  {
   "cell_type": "code",
   "execution_count": 21,
   "metadata": {
    "id": "uVYcR334YiPK"
   },
   "outputs": [],
   "source": [
    "# for insering into db\n",
    "con = sqlite3.connect('keyword_search_project.db')\n",
    "cur = con.cursor()\n",
    "\n",
    "import re #regular expression\n",
    "\n",
    "# Insering the document magnitude in to the table docmag\n",
    "\n",
    "docmag_arr = []\n",
    "with open('/content/drive/My Drive/doc_mag.txt') as my_file:\n",
    "  docmag_arr = my_file.readlines()\n",
    "for ele in docmag_arr:\n",
    "  ele = re.findall(r'\\d+\\.?\\d*', ele) #finding elements using re\n",
    "  doc_id = int(ele[0])\n",
    "  max_fq = int(ele[1])\n",
    "  mag = float(ele[2])\n",
    "  cur.execute(\"INSERT INTO DOCMAG VALUES (?,?,?)\",(doc_id,max_fq,mag))\n",
    "\n",
    "# Insering the inverted index in to the table in postings\n",
    "posting_arr = []\n",
    "with open('/content/drive/My Drive/inv_idx.txt') as my_file:\n",
    "  posting_arr = my_file.readlines()\n",
    "for ele in posting_arr:\n",
    "  ele = re.findall(r'\\'(.*)\\'[^\\[]*(\\[.*\\])', ele)\n",
    "  word = ele[0][0]\n",
    "  posting_tf_idf = ele[0][1]\n",
    "  cur.execute(\"INSERT INTO postings VALUES (?,?)\",(word,posting_tf_idf))\n",
    "  \n",
    "cur.close()\n",
    "con.commit()\n",
    "con.close()\n"
   ]
  },
  {
   "cell_type": "code",
   "execution_count": 22,
   "metadata": {
    "id": "09_ruUUqkYGz"
   },
   "outputs": [],
   "source": [
    "from bs4 import BeautifulSoup\n",
    "from collections import Counter\n",
    "import re\n",
    "import string\n",
    "import math\n",
    "from string import digits\n",
    "punctuations = '''!()-[]{};:'\"\\,<>./?@#$%^&*_~'''\n",
    "\n",
    "from nltk.corpus import stopwords\n",
    "from nltk.tokenize import word_tokenize\n",
    "stop_words = set(stopwords.words('english'))\n",
    "con = sqlite3.connect('keyword_search_project.db')\n",
    "cur = con.cursor()\n",
    "\n",
    "# Function to search the text entered (word or sentence)\n",
    "\n",
    "def searchFortext(event):\n",
    "\n",
    "  # Cleaning the query text input (word or sentence) by the user in the key word search. \n",
    "  search_word_text_lower = textbox.value.lower() #converting to lower case\n",
    "  search_word_text_notags = BeautifulSoup(search_word_text_lower).get_text() #removing html tags\n",
    "  remove_digits = str.maketrans('','',digits) \n",
    "  search_word_text_nodigits = search_word_text_notags.translate(remove_digits) #removing numbers \n",
    "  search_word_text_nosplchar = re.sub('[^A-Za-z0-9]+',' ',search_word_text_nodigits) #remove special characters\n",
    "  search_word_text_nopunct = ''\n",
    "  for char in search_word_text_nosplchar:\n",
    "    if char not in punctuations:\n",
    "      search_word_text_nopunct = search_word_text_nopunct + char #remove punctuations\n",
    "\n",
    "  search_word_text_tokenize = word_tokenize(search_word_text_nopunct) #tokenized text for getting this us an individual text\n",
    "  \n",
    "  search_word_text_nostopwords = [word for word in search_word_text_tokenize if word not in stopwords.words('english')] #removing stopwords\n",
    "  counter = Counter(search_word_text_nostopwords) # counting the number of words\n",
    "\n",
    "  maxfrequency_word = counter.most_common(1)[0][1] # finding maximum number of times a word is getting repeated in the document\n",
    "  word_dictionary = dict() \n",
    "  for obj in counter: \n",
    "    word_tf = counter[obj]/maxfrequency_word\n",
    "    word_tfidf = word_tf * (1/len(counter))\n",
    "    word_dictionary[obj] = word_tfidf\n",
    "  search_query = \"','\".join(search_word_text_nostopwords) #we are creating comma seperated string for our select query\n",
    "  sql = \"SELECT * FROM postings WHERE word IN ('?')\"\n",
    "  sql = sql.replace(\"?\",search_query,1) \n",
    "  cur.execute(sql)\n",
    "  result = cur.fetchall()\n",
    "\n",
    "  process(result,word_dictionary)\n",
    "\n",
    "def process(result,word_dictionary):\n",
    "  docid_dictionary = dict() # To store tfidf of words with respect to document id\n",
    "  docmag_dictionary = dict() # To store indiviual docids and its magnitude\n",
    "  for ele in result:\n",
    "    element = re.findall(r'\\((.*?),.*?[+-]?([0-9]*[.]?[0-9]+)\\)', ele[1])# doc id & postings tfidf\n",
    "    for e in element :\n",
    "      docid_dictionary[e[0]] = e[1]\n",
    "    \n",
    "  for docid in docid_dictionary:\n",
    "    docmag_sql = \"SELECT * FROM docmag WHERE docid = ?\"\n",
    "    cur.execute(docmag_sql,docid)\n",
    "    result_docmag = cur.fetchone()\n",
    "    docmag_dictionary[result_docmag[0]] = result_docmag[2] # docid and mag\n",
    "\n",
    "  # COSINE SIMILARITY \n",
    "\n",
    "  cosinesimilarity_dictionary = dict()\n",
    "    \n",
    "  # Calculating the dot product of the query text (word or sentence) with each document\n",
    "  for docid in docid_dictionary:\n",
    "    dotproduct = 0\n",
    "    for word in word_dictionary:\n",
    "      mul_tfidf = float(word_dictionary[word])*float(docid_dictionary[docid]) # multiplying word tfidf * doc tf_idf\n",
    "      dotproduct = dotproduct + mul_tfidf\n",
    "\n",
    "    # Calculating the modulus of the query text\n",
    "    querymodulus = 0\n",
    "    for word in word_dictionary:\n",
    "      word_tfidf = float(word_dictionary[word])*float(word_dictionary[word])\n",
    "      querymodulus = querymodulus + word_tfidf\n",
    "        \n",
    "    querymodulus_sqrt = math.sqrt(querymodulus)\n",
    "    \n",
    "    # Calculating the modulus of the document\n",
    "    docmuentmag_modulus = math.sqrt(docmag_dictionary[int(docid)])# we have the mag from docmag dict\n",
    "    \n",
    "    # Calculating the cosine similarities of all the documents with the query text, and storing them in a dictionary \n",
    "    cosinesimilarity_dictionary[docid] = dotproduct/(querymodulus_sqrt*docmuentmag_modulus)\n",
    "  \n",
    "  # Sorting the cosine similarities\n",
    "  sorted_cosine = sorted(cosinesimilarity_dictionary.items(), key=lambda x: x[1], reverse=False) \n",
    "  for rows in sorted_cosine:\n",
    "    print(rows[0])\n",
    "\n"
   ]
  },
  {
   "cell_type": "code",
   "execution_count": 23,
   "metadata": {
    "colab": {
     "base_uri": "https://localhost:8080/",
     "height": 166,
     "referenced_widgets": [
      "985beb8020bc483688a6edd370f5ff24",
      "442ace9fdd404a10bc42b88f53f44410",
      "f523bef76c76483b865e882908c7a28a",
      "6a6cbc974ff449d3940dc6d900df8371",
      "35c5ede35e6c47e0915cb10a2926e0be",
      "c9c0717b9e1f4840b54931e34e038268",
      "2f22a87c1b65497dab873b8b02806951",
      "f69b65cf5010459e8f73c1a395997806",
      "beb60fc8e8fd48298d9aba7f95da9134",
      "ce4b6ed728684b569995eeed3919628d"
     ]
    },
    "id": "tGCaiQfx18Q1",
    "outputId": "67abc86a-e61d-4d77-b038-5ca4c5c74435"
   },
   "outputs": [
    {
     "data": {
      "application/vnd.jupyter.widget-view+json": {
       "model_id": "985beb8020bc483688a6edd370f5ff24",
       "version_major": 2,
       "version_minor": 0
      },
      "text/plain": [
       "VBox(children=(Text(value='', placeholder='Enter word to Search'), Button(button_style='success', description=…"
      ]
     },
     "metadata": {
      "tags": []
     },
     "output_type": "display_data"
    },
    {
     "name": "stdout",
     "output_type": "stream",
     "text": [
      "1\n",
      "4\n",
      "5\n",
      "2\n",
      "3\n"
     ]
    }
   ],
   "source": [
    "# User Interface for key word search.\n",
    "# Clicking the 'Search' button triggers the query search and go to function 'searchFortext'\n",
    "\n",
    "import ipywidgets as widgets\n",
    "textbox = widgets.Text(\n",
    "    value='',\n",
    "    placeholder='Enter word to Search',\n",
    "    disabled=False\n",
    ")\n",
    "\n",
    "button = widgets.Button(\n",
    "    description='Search',\n",
    "    disabled=False,\n",
    "    button_style='success', # 'success', 'info', 'warning', 'danger' or ''\n",
    "    tooltip='Click me',\n",
    "    icon='check' # (FontAwesome names without the `fa-` prefix)\n",
    ")\n",
    "result = widgets.Output()\n",
    "button.on_click(searchFortext)\n",
    "widgets.VBox([textbox,button,result])"
   ]
  }
 ],
 "metadata": {
  "colab": {
   "name": "sample_data_inverted_index_part2_hridya-neeraja.ipynb",
   "provenance": []
  },
  "kernelspec": {
   "display_name": "Python 3",
   "language": "python",
   "name": "python3"
  },
  "language_info": {
   "codemirror_mode": {
    "name": "ipython",
    "version": 3
   },
   "file_extension": ".py",
   "mimetype": "text/x-python",
   "name": "python",
   "nbconvert_exporter": "python",
   "pygments_lexer": "ipython3",
   "version": "3.8.3"
  },
  "widgets": {
   "application/vnd.jupyter.widget-state+json": {
    "2f22a87c1b65497dab873b8b02806951": {
     "model_module": "@jupyter-widgets/base",
     "model_name": "LayoutModel",
     "state": {
      "_model_module": "@jupyter-widgets/base",
      "_model_module_version": "1.2.0",
      "_model_name": "LayoutModel",
      "_view_count": null,
      "_view_module": "@jupyter-widgets/base",
      "_view_module_version": "1.2.0",
      "_view_name": "LayoutView",
      "align_content": null,
      "align_items": null,
      "align_self": null,
      "border": null,
      "bottom": null,
      "display": null,
      "flex": null,
      "flex_flow": null,
      "grid_area": null,
      "grid_auto_columns": null,
      "grid_auto_flow": null,
      "grid_auto_rows": null,
      "grid_column": null,
      "grid_gap": null,
      "grid_row": null,
      "grid_template_areas": null,
      "grid_template_columns": null,
      "grid_template_rows": null,
      "height": null,
      "justify_content": null,
      "justify_items": null,
      "left": null,
      "margin": null,
      "max_height": null,
      "max_width": null,
      "min_height": null,
      "min_width": null,
      "object_fit": null,
      "object_position": null,
      "order": null,
      "overflow": null,
      "overflow_x": null,
      "overflow_y": null,
      "padding": null,
      "right": null,
      "top": null,
      "visibility": null,
      "width": null
     }
    },
    "35c5ede35e6c47e0915cb10a2926e0be": {
     "model_module": "@jupyter-widgets/output",
     "model_name": "OutputModel",
     "state": {
      "_dom_classes": [],
      "_model_module": "@jupyter-widgets/output",
      "_model_module_version": "1.0.0",
      "_model_name": "OutputModel",
      "_view_count": null,
      "_view_module": "@jupyter-widgets/output",
      "_view_module_version": "1.0.0",
      "_view_name": "OutputView",
      "layout": "IPY_MODEL_ce4b6ed728684b569995eeed3919628d",
      "msg_id": "",
      "outputs": []
     }
    },
    "442ace9fdd404a10bc42b88f53f44410": {
     "model_module": "@jupyter-widgets/base",
     "model_name": "LayoutModel",
     "state": {
      "_model_module": "@jupyter-widgets/base",
      "_model_module_version": "1.2.0",
      "_model_name": "LayoutModel",
      "_view_count": null,
      "_view_module": "@jupyter-widgets/base",
      "_view_module_version": "1.2.0",
      "_view_name": "LayoutView",
      "align_content": null,
      "align_items": null,
      "align_self": null,
      "border": null,
      "bottom": null,
      "display": null,
      "flex": null,
      "flex_flow": null,
      "grid_area": null,
      "grid_auto_columns": null,
      "grid_auto_flow": null,
      "grid_auto_rows": null,
      "grid_column": null,
      "grid_gap": null,
      "grid_row": null,
      "grid_template_areas": null,
      "grid_template_columns": null,
      "grid_template_rows": null,
      "height": null,
      "justify_content": null,
      "justify_items": null,
      "left": null,
      "margin": null,
      "max_height": null,
      "max_width": null,
      "min_height": null,
      "min_width": null,
      "object_fit": null,
      "object_position": null,
      "order": null,
      "overflow": null,
      "overflow_x": null,
      "overflow_y": null,
      "padding": null,
      "right": null,
      "top": null,
      "visibility": null,
      "width": null
     }
    },
    "6a6cbc974ff449d3940dc6d900df8371": {
     "model_module": "@jupyter-widgets/controls",
     "model_name": "ButtonModel",
     "state": {
      "_dom_classes": [],
      "_model_module": "@jupyter-widgets/controls",
      "_model_module_version": "1.5.0",
      "_model_name": "ButtonModel",
      "_view_count": null,
      "_view_module": "@jupyter-widgets/controls",
      "_view_module_version": "1.5.0",
      "_view_name": "ButtonView",
      "button_style": "success",
      "description": "Search",
      "disabled": false,
      "icon": "check",
      "layout": "IPY_MODEL_beb60fc8e8fd48298d9aba7f95da9134",
      "style": "IPY_MODEL_f69b65cf5010459e8f73c1a395997806",
      "tooltip": "Click me"
     }
    },
    "985beb8020bc483688a6edd370f5ff24": {
     "model_module": "@jupyter-widgets/controls",
     "model_name": "VBoxModel",
     "state": {
      "_dom_classes": [],
      "_model_module": "@jupyter-widgets/controls",
      "_model_module_version": "1.5.0",
      "_model_name": "VBoxModel",
      "_view_count": null,
      "_view_module": "@jupyter-widgets/controls",
      "_view_module_version": "1.5.0",
      "_view_name": "VBoxView",
      "box_style": "",
      "children": [
       "IPY_MODEL_f523bef76c76483b865e882908c7a28a",
       "IPY_MODEL_6a6cbc974ff449d3940dc6d900df8371",
       "IPY_MODEL_35c5ede35e6c47e0915cb10a2926e0be"
      ],
      "layout": "IPY_MODEL_442ace9fdd404a10bc42b88f53f44410"
     }
    },
    "beb60fc8e8fd48298d9aba7f95da9134": {
     "model_module": "@jupyter-widgets/base",
     "model_name": "LayoutModel",
     "state": {
      "_model_module": "@jupyter-widgets/base",
      "_model_module_version": "1.2.0",
      "_model_name": "LayoutModel",
      "_view_count": null,
      "_view_module": "@jupyter-widgets/base",
      "_view_module_version": "1.2.0",
      "_view_name": "LayoutView",
      "align_content": null,
      "align_items": null,
      "align_self": null,
      "border": null,
      "bottom": null,
      "display": null,
      "flex": null,
      "flex_flow": null,
      "grid_area": null,
      "grid_auto_columns": null,
      "grid_auto_flow": null,
      "grid_auto_rows": null,
      "grid_column": null,
      "grid_gap": null,
      "grid_row": null,
      "grid_template_areas": null,
      "grid_template_columns": null,
      "grid_template_rows": null,
      "height": null,
      "justify_content": null,
      "justify_items": null,
      "left": null,
      "margin": null,
      "max_height": null,
      "max_width": null,
      "min_height": null,
      "min_width": null,
      "object_fit": null,
      "object_position": null,
      "order": null,
      "overflow": null,
      "overflow_x": null,
      "overflow_y": null,
      "padding": null,
      "right": null,
      "top": null,
      "visibility": null,
      "width": null
     }
    },
    "c9c0717b9e1f4840b54931e34e038268": {
     "model_module": "@jupyter-widgets/controls",
     "model_name": "DescriptionStyleModel",
     "state": {
      "_model_module": "@jupyter-widgets/controls",
      "_model_module_version": "1.5.0",
      "_model_name": "DescriptionStyleModel",
      "_view_count": null,
      "_view_module": "@jupyter-widgets/base",
      "_view_module_version": "1.2.0",
      "_view_name": "StyleView",
      "description_width": ""
     }
    },
    "ce4b6ed728684b569995eeed3919628d": {
     "model_module": "@jupyter-widgets/base",
     "model_name": "LayoutModel",
     "state": {
      "_model_module": "@jupyter-widgets/base",
      "_model_module_version": "1.2.0",
      "_model_name": "LayoutModel",
      "_view_count": null,
      "_view_module": "@jupyter-widgets/base",
      "_view_module_version": "1.2.0",
      "_view_name": "LayoutView",
      "align_content": null,
      "align_items": null,
      "align_self": null,
      "border": null,
      "bottom": null,
      "display": null,
      "flex": null,
      "flex_flow": null,
      "grid_area": null,
      "grid_auto_columns": null,
      "grid_auto_flow": null,
      "grid_auto_rows": null,
      "grid_column": null,
      "grid_gap": null,
      "grid_row": null,
      "grid_template_areas": null,
      "grid_template_columns": null,
      "grid_template_rows": null,
      "height": null,
      "justify_content": null,
      "justify_items": null,
      "left": null,
      "margin": null,
      "max_height": null,
      "max_width": null,
      "min_height": null,
      "min_width": null,
      "object_fit": null,
      "object_position": null,
      "order": null,
      "overflow": null,
      "overflow_x": null,
      "overflow_y": null,
      "padding": null,
      "right": null,
      "top": null,
      "visibility": null,
      "width": null
     }
    },
    "f523bef76c76483b865e882908c7a28a": {
     "model_module": "@jupyter-widgets/controls",
     "model_name": "TextModel",
     "state": {
      "_dom_classes": [],
      "_model_module": "@jupyter-widgets/controls",
      "_model_module_version": "1.5.0",
      "_model_name": "TextModel",
      "_view_count": null,
      "_view_module": "@jupyter-widgets/controls",
      "_view_module_version": "1.5.0",
      "_view_name": "TextView",
      "continuous_update": true,
      "description": "",
      "description_tooltip": null,
      "disabled": false,
      "layout": "IPY_MODEL_2f22a87c1b65497dab873b8b02806951",
      "placeholder": "Enter word to Search",
      "style": "IPY_MODEL_c9c0717b9e1f4840b54931e34e038268",
      "value": "feb"
     }
    },
    "f69b65cf5010459e8f73c1a395997806": {
     "model_module": "@jupyter-widgets/controls",
     "model_name": "ButtonStyleModel",
     "state": {
      "_model_module": "@jupyter-widgets/controls",
      "_model_module_version": "1.5.0",
      "_model_name": "ButtonStyleModel",
      "_view_count": null,
      "_view_module": "@jupyter-widgets/base",
      "_view_module_version": "1.2.0",
      "_view_name": "StyleView",
      "button_color": null,
      "font_weight": ""
     }
    }
   }
  }
 },
 "nbformat": 4,
 "nbformat_minor": 1
}
